{
 "cells": [
  {
   "cell_type": "code",
   "execution_count": 193,
   "metadata": {},
   "outputs": [],
   "source": [
    "import numpy as np\n",
    "import pandas as pd\n",
    "from sklearn.model_selection import train_test_split\n",
    "from sklearn.preprocessing import StandardScaler\n",
    "from sklearn.svm import SVC\n",
    "from sklearn.model_selection import cross_val_predict\n",
    "from sklearn.metrics import precision_score, recall_score, f1_score\n",
    "from sklearn.ensemble import RandomForestClassifier\n",
    "\n",
    "\n",
    "ab = ['2','3','4','5','6','7','8','9','10','11','12','13','14','15','16','17','18','19','20','21','22','23']\n",
    "      #,'8','9','10','11','12','13','14','15','16','17','18','19','20','21','22','23']\n",
    "\n",
    "p = []*len(ab)\n",
    "r = []*len(ab)\n",
    "f1 = []*len(ab)\n",
    "\n",
    "\n",
    "\n",
    "for i in ab:\n",
    " dataset = pd.read_csv('Lorenz_data_r'+i+'.csv')\n",
    " data_labels = pd.read_csv('Lorenz_labels_r'+i+'.csv')\n",
    " labels = data_labels.values.ravel()\n",
    " \n",
    " X, y = dataset, labels\n",
    " X_train, X_test = train_test_split(dataset, test_size=0.2, random_state=42)\n",
    " y_train, y_test = train_test_split(labels, test_size=0.2, random_state=42)\n",
    " \n",
    " scaling = StandardScaler()\n",
    " Data_tr = pd.DataFrame(scaling.fit_transform(X_train), columns=X_train.columns)\n",
    " X_train = Data_tr\n",
    " Dat_tr = pd.DataFrame(scaling.fit_transform(X_test), columns=X_train.columns)\n",
    " X_test = Dat_tr\n",
    "    \n",
    "  \n",
    " \n",
    " #forest_clf = RandomForestClassifier(random_state=42)\n",
    " forest_clf = SVC(gamma='auto', C = 100.0)\n",
    " forest_clf .fit(X_train, y_train)\n",
    " final_predictions = forest_clf.predict(X_test)\n",
    " \n",
    " p.append(precision_score(y_test, final_predictions))\n",
    " r.append(recall_score(y_test, final_predictions))\n",
    " f1.append(f1_score(y_test, final_predictions))\n",
    "    \n",
    "  \n",
    "    \n",
    "\n",
    " \n",
    "    \n",
    "    "
   ]
  },
  {
   "cell_type": "code",
   "execution_count": 194,
   "metadata": {},
   "outputs": [],
   "source": [
    "f11 = f1"
   ]
  },
  {
   "cell_type": "code",
   "execution_count": 195,
   "metadata": {},
   "outputs": [
    {
     "data": {
      "image/png": "[encoded data removed]",
      "text/plain": [
       "<Figure size 432x288 with 1 Axes>"
      ]
     },
     "metadata": {
      "needs_background": "light"
     },
     "output_type": "display_data"
    }
   ],
   "source": [
    "import matplotlib.pyplot as plt\n",
    "y = [2,3,4,5,6,7,8,9,10,11,12,13,14,15,16,17,18,19,20,21,22,23]\n",
    "\n",
    "     #8,9,10,11,12,13,14,15,16,17,18,19,20,21,22,23]\n",
    "plt.plot(y,p,'r*-')\n",
    "plt.plot(y,r,'y*-')\n",
    "#plt.plot(y,f11,'r.-')\n",
    "plt.plot(y,f1,'b*-')\n",
    "plt.xlabel('r')\n",
    "plt.ylabel('f1');\n",
    "    "
   ]
  },
  {
   "cell_type": "code",
   "execution_count": 196,
   "metadata": {},
   "outputs": [
    {
     "data": {
      "text/plain": [
       "0.981651376146789"
      ]
     },
     "execution_count": 196,
     "metadata": {},
     "output_type": "execute_result"
    }
   ],
   "source": [
    "f1[0]"
   ]
  },
  {
   "cell_type": "code",
   "execution_count": null,
   "metadata": {},
   "outputs": [],
   "source": []
  },
  {
   "cell_type": "code",
   "execution_count": null,
   "metadata": {},
   "outputs": [],
   "source": [
    "\n",
    "\n",
    "\n"
   ]
  },
  {
   "cell_type": "code",
   "execution_count": null,
   "metadata": {},
   "outputs": [],
   "source": []
  },
  {
   "cell_type": "code",
   "execution_count": null,
   "metadata": {},
   "outputs": [],
   "source": []
  },
  {
   "cell_type": "code",
   "execution_count": null,
   "metadata": {},
   "outputs": [],
   "source": []
  },
  {
   "cell_type": "code",
   "execution_count": null,
   "metadata": {},
   "outputs": [],
   "source": []
  }
 ],
 "metadata": {
  "kernelspec": {
   "display_name": "Python 3",
   "language": "python",
   "name": "python3"
  },
  "language_info": {
   "codemirror_mode": {
    "name": "ipython",
    "version": 3
   },
   "file_extension": ".py",
   "mimetype": "text/x-python",
   "name": "python",
   "nbconvert_exporter": "python",
   "pygments_lexer": "ipython3",
   "version": "3.6.11"
  }
 },
 "nbformat": 4,
 "nbformat_minor": 4
}
